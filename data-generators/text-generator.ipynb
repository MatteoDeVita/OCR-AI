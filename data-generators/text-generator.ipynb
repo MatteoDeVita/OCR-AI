{
 "cells": [
  {
   "cell_type": "code",
   "execution_count": 1,
   "metadata": {},
   "outputs": [],
   "source": [
    "import cv2\n",
    "from PIL import Image\n",
    "from PIL import ImageDraw\n",
    "from PIL import ImageFont\n",
    "import numpy as np\n",
    "import json\n",
    "import random\n",
    "import os\n",
    "import re\n",
    "import unicodedata\n",
    "from tqdm.auto import tqdm\n",
    "import uuid\n",
    "from imagedegrade import np as degrade\n",
    "import math"
   ]
  },
  {
   "cell_type": "code",
   "execution_count": 2,
   "metadata": {},
   "outputs": [],
   "source": [
    "def filter_label(label, len_range, max_space):\n",
    "    if label is None:\n",
    "        return False\n",
    "    if len(label) < len_range[0] or len(label) > len_range[1]:\n",
    "        return False\n",
    "    if label.count(' ') > max_space:\n",
    "        return False\n",
    "    if label.isascii() == False:\n",
    "        return False    \n",
    "    for char in \"\\n\\r\\xad\\xa0\":\n",
    "        if char in label:\n",
    "            return False\n",
    "    return True\n",
    "\n",
    "def get_labels_from_json(\n",
    "    n_key_map={\n",
    "        \"date\": 3_00000,\n",
    "        \"designation\": 60_00000,\n",
    "        \"variety\": 5_00000,\n",
    "        \"region\": 2_00000,\n",
    "        \"province\": 5_00000,\n",
    "        \"country\": 1_00000,\n",
    "        \"winery\": 9_0000,\n",
    "    },\n",
    "    len_range=(0, 100),\n",
    "    max_space=100\n",
    "):\n",
    "    wine_data = json.load(open(\"../datasets/vin_db.json\", encoding=\"utf-8\"))\n",
    "    key_list = [\"title\", \"designation\", \"variety\", \"region_1\", \"province\", \"country\", \"winery\"]\n",
    "    wine_data = [{k:d[k] for k in key_list} for d in wine_data]\n",
    "    for wine in wine_data: \n",
    "        wine[\"title\"] = re.sub(\"[^0-9]\", \"\", wine[\"title\"]) # Remove non alpha numeric characters, we only want the dates\n",
    "        wine[\"date\"] = wine.pop(\"title\") # Rename key\n",
    "        wine[\"region\"] = wine.pop(\"region_1\") # Rename key\n",
    "    labels = {}\n",
    "    for key in wine_data[0].keys():\n",
    "        labels[key] = list(filter(lambda label: filter_label(label, len_range, max_space), [wine[key] for wine in wine_data] )) # Remove all odd values\n",
    "        # labels[key] = list(map(lambda x: unicodedata.normalize(\"NFKD\", re.sub(r'[^\\x00-\\x7F]', '', x).replace(\"\\r\\n\", '').replace('\\xad', '')), labels[key])) # Remove all \\r and \\n\n",
    "        random.shuffle(labels[key]) # Shuffle\n",
    "    for i in range(len(labels[\"designation\"])): # split by 3 spaces and add remaning data at the end\n",
    "        splitted_designtation = labels[\"designation\"][i].split(' ')\n",
    "        part1 = ' '.join(splitted_designtation[:3])\n",
    "        part2 = ' '.join(splitted_designtation[3:])\n",
    "        labels[\"designation\"][i] = part1\n",
    "        if type(part2) == str and len(part2) > 0:\n",
    "            labels[\"designation\"].append(part2)\n",
    "    random.shuffle(labels[\"designation\"]) # Shuffle again\n",
    "    res_labels = []\n",
    "    for key in n_key_map.keys(): # Cut to wanted length\n",
    "        res_labels = res_labels + labels[key][:n_key_map[key]]\n",
    "    return res_labels #remove duplicate values\n",
    "\n",
    "def get_labels_from_wine_names( len_range=(0, 100), max_space=100):\n",
    "    labels = open(\"../datasets/wine-names.txt\").readlines()\n",
    "    return list(filter(lambda label: filter_label(label, len_range, max_space) , labels))\n",
    "\n",
    "\n",
    "labels = get_labels_from_json(len_range=(3, 32), max_space=3)\n",
    "labels = labels + get_labels_from_wine_names(len_range=(3, 32), max_space=3)\n",
    "labels = list(set(labels))\n",
    "for i in range(1500, 2050): # add dates\n",
    "    labels.append(str(i))\n",
    "random.shuffle(labels) #shuffle"
   ]
  },
  {
   "cell_type": "code",
   "execution_count": 4,
   "metadata": {},
   "outputs": [
    {
     "data": {
      "application/vnd.jupyter.widget-view+json": {
       "model_id": "e04c5fce205a4652a9932cdfd47d4bf0",
       "version_major": 2,
       "version_minor": 0
      },
      "text/plain": [
       "  0%|          | 0/13 [00:00<?, ?it/s]"
      ]
     },
     "metadata": {},
     "output_type": "display_data"
    },
    {
     "data": {
      "application/vnd.jupyter.widget-view+json": {
       "model_id": "a946c0cc7db247b48de49d2adb8a7ba5",
       "version_major": 2,
       "version_minor": 0
      },
      "text/plain": [
       "  0%|          | 0/44682 [00:00<?, ?it/s]"
      ]
     },
     "metadata": {},
     "output_type": "display_data"
    },
    {
     "data": {
      "application/vnd.jupyter.widget-view+json": {
       "model_id": "d37d62350d78476ba75def84fb3c78f2",
       "version_major": 2,
       "version_minor": 0
      },
      "text/plain": [
       "  0%|          | 0/44682 [00:00<?, ?it/s]"
      ]
     },
     "metadata": {},
     "output_type": "display_data"
    },
    {
     "data": {
      "application/vnd.jupyter.widget-view+json": {
       "model_id": "f90e4703574446c69a813152373bc311",
       "version_major": 2,
       "version_minor": 0
      },
      "text/plain": [
       "  0%|          | 0/44682 [00:00<?, ?it/s]"
      ]
     },
     "metadata": {},
     "output_type": "display_data"
    },
    {
     "data": {
      "application/vnd.jupyter.widget-view+json": {
       "model_id": "7f6b89b9df0549abbe58a7f972533522",
       "version_major": 2,
       "version_minor": 0
      },
      "text/plain": [
       "  0%|          | 0/44682 [00:00<?, ?it/s]"
      ]
     },
     "metadata": {},
     "output_type": "display_data"
    },
    {
     "data": {
      "application/vnd.jupyter.widget-view+json": {
       "model_id": "356419c5384d4ecab7f60d88fda7c3b2",
       "version_major": 2,
       "version_minor": 0
      },
      "text/plain": [
       "  0%|          | 0/44682 [00:00<?, ?it/s]"
      ]
     },
     "metadata": {},
     "output_type": "display_data"
    },
    {
     "data": {
      "application/vnd.jupyter.widget-view+json": {
       "model_id": "892857e9303144ba8939b79a4cebea10",
       "version_major": 2,
       "version_minor": 0
      },
      "text/plain": [
       "  0%|          | 0/44682 [00:00<?, ?it/s]"
      ]
     },
     "metadata": {},
     "output_type": "display_data"
    },
    {
     "data": {
      "application/vnd.jupyter.widget-view+json": {
       "model_id": "79b12f8c3eaf455dbfd8e634f718d321",
       "version_major": 2,
       "version_minor": 0
      },
      "text/plain": [
       "  0%|          | 0/44682 [00:00<?, ?it/s]"
      ]
     },
     "metadata": {},
     "output_type": "display_data"
    },
    {
     "data": {
      "application/vnd.jupyter.widget-view+json": {
       "model_id": "1bca570d5193424f913e959f7a3dd935",
       "version_major": 2,
       "version_minor": 0
      },
      "text/plain": [
       "  0%|          | 0/44682 [00:00<?, ?it/s]"
      ]
     },
     "metadata": {},
     "output_type": "display_data"
    },
    {
     "data": {
      "application/vnd.jupyter.widget-view+json": {
       "model_id": "014798750fc441ebae9c3a6daba822d2",
       "version_major": 2,
       "version_minor": 0
      },
      "text/plain": [
       "  0%|          | 0/44682 [00:00<?, ?it/s]"
      ]
     },
     "metadata": {},
     "output_type": "display_data"
    },
    {
     "data": {
      "application/vnd.jupyter.widget-view+json": {
       "model_id": "c0fec86a89664412ad6587c79b2e9768",
       "version_major": 2,
       "version_minor": 0
      },
      "text/plain": [
       "  0%|          | 0/44682 [00:00<?, ?it/s]"
      ]
     },
     "metadata": {},
     "output_type": "display_data"
    },
    {
     "data": {
      "application/vnd.jupyter.widget-view+json": {
       "model_id": "2547be80f1624873ad9a55d880342855",
       "version_major": 2,
       "version_minor": 0
      },
      "text/plain": [
       "  0%|          | 0/44682 [00:00<?, ?it/s]"
      ]
     },
     "metadata": {},
     "output_type": "display_data"
    },
    {
     "data": {
      "application/vnd.jupyter.widget-view+json": {
       "model_id": "66e0a5826d2b4628869b68eac93add1a",
       "version_major": 2,
       "version_minor": 0
      },
      "text/plain": [
       "  0%|          | 0/44682 [00:00<?, ?it/s]"
      ]
     },
     "metadata": {},
     "output_type": "display_data"
    },
    {
     "data": {
      "application/vnd.jupyter.widget-view+json": {
       "model_id": "70c983c374474207bd116cb0b2111392",
       "version_major": 2,
       "version_minor": 0
      },
      "text/plain": [
       "  0%|          | 0/44682 [00:00<?, ?it/s]"
      ]
     },
     "metadata": {},
     "output_type": "display_data"
    }
   ],
   "source": [
    "def degrade_image(image_array, blur_range, jpeg_range):\n",
    "    image = degrade.blur(image_array, random.uniform(blur_range[0], blur_range[1])).astype(np.uint8)\n",
    "    # image = degrade.noise(image, random.randint(1, 2)).astype(np.uint8)\n",
    "    # image = degrade.saltpepper(image, random.uniform(0.05, 0.08)).astype(np.uint8)\n",
    "    image = degrade.jpeg(image, random.randint(jpeg_range[0], jpeg_range[1])).astype(np.uint8)\n",
    "    return image.astype(np.uint8)\n",
    "\n",
    "def apply_wave_filter(img, wave_range):\n",
    "    img_output = np.zeros(img.shape, dtype=img.dtype)\n",
    "    mean_color = img[0][0]\n",
    "    rows, cols, _ = img.shape\n",
    "    sigma = random.uniform(wave_range[0], wave_range[1])\n",
    "    # Wave effect\n",
    "    for i in range(rows):\n",
    "        for j in range(cols):\n",
    "            offset_y = 0\n",
    "            offset_y = -int(sigma * math.sin(2 * 3.14 * j / cols))\n",
    "            if i+offset_y < rows:\n",
    "                img_output[i,j] = img[(i+offset_y)%rows,j]\n",
    "            else:\n",
    "                img_output[i,j] = mean_color\n",
    "    return img_output\n",
    "\n",
    "def get_rand_rgb():\n",
    "    return (random.randint(0, 255), random.randint(0, 255), random.randint(0, 255))\n",
    "\n",
    "def generate_images(labels, directory, configs):\n",
    "    # font_files = os.listdir(\"../datasets/fonts/\")\n",
    "   \n",
    "    if os.path.exists(directory) == False: os.makedirs(directory)    \n",
    "    data_file = open(os.path.join(directory, \"data.txt\"), \"a+\")\n",
    "    labels = labels\n",
    "    for font_file, config in tqdm(configs.items()):\n",
    "        for label in tqdm(labels):\n",
    "            try:\n",
    "                font_color = get_rand_rgb()\n",
    "                bg_color =  get_rand_rgb()\n",
    "                while (abs(sum(font_color) - sum(bg_color)) <= config[\"min_color_diff\"]):\n",
    "                    font_color = get_rand_rgb()\n",
    "                    bg_color =  get_rand_rgb()\n",
    "                file_name = f\"{uuid.uuid1()}.png\"\n",
    "                font_size = random.randint(config[\"font_size_range\"][0], config[\"font_size_range\"][1])\n",
    "                image_size = (\n",
    "                    int(len(label) * config[\"image_width_x\"]),\n",
    "                    random.randint(config[\"image_height_range\"][0], config[\"image_height_range\"][1]),\n",
    "\n",
    "                )\n",
    "                image = Image.new(\n",
    "                    'RGB',\n",
    "                    image_size,\n",
    "                    bg_color\n",
    "                )\n",
    "                draw = ImageDraw.Draw(image)\n",
    "                font = ImageFont.truetype(\"../datasets/fonts/\" + font_file, font_size)\n",
    "                draw.text(\n",
    "                    (\n",
    "                        int(image_size[0] * random.uniform(config[\"pos_x_range_x\"][0], config[\"pos_x_range_x\"][1])),\n",
    "                        int(image_size[1] * random.uniform(config[\"pos_y_range_x\"][0], config[\"pos_y_range_x\"][1])),\n",
    "                    ),\n",
    "                    str(label),\n",
    "                    font=font,\n",
    "                    fill=font_color\n",
    "                )\n",
    "                image.save(os.path.join(directory, file_name))\n",
    "                image = degrade_image(np.asarray(image), config[\"blur_range\"], config[\"jpeg_range\"])\n",
    "                image = apply_wave_filter(image, config[\"wave_range\"])\n",
    "                image = Image.fromarray(image)\n",
    "                image = image.resize((256, 64))\n",
    "                image.save(os.path.join(directory, file_name))\n",
    "                data_file.write(f\"{file_name} {label}\\n\")            \n",
    "            except Exception as e :\n",
    "                None\n",
    "            break;\n",
    "    data_file.close()\n",
    "\n",
    "# Store configurations for each font\n",
    "configs = {\n",
    "    \"Times Sans Serif.ttf\": {\n",
    "        \"font_size_range\": (60, 75),\n",
    "        \"image_width_x\": 40,\n",
    "        \"image_height_range\": (125, 135),\n",
    "        \"pos_x_range_x\": (0.05, 0.1),\n",
    "        \"pos_y_range_x\": (0.1, 0.35),\n",
    "        \"blur_range\": (0.5, 1.5),\n",
    "        \"jpeg_range\": (90, 98),\n",
    "        \"wave_range\": (-10, 10),\n",
    "        \"min_color_diff\": 80,\n",
    "    },\n",
    "    \"SCRIPTIN.ttf\": {\n",
    "        \"font_size_range\": (100, 110),\n",
    "        \"image_width_x\": 75,\n",
    "        \"image_height_range\": (300, 350),\n",
    "        \"pos_x_range_x\": (0.15, 0.18),\n",
    "        \"pos_y_range_x\": (0.025, 0.05),\n",
    "        \"blur_range\": (0.5, 1.5),\n",
    "        \"jpeg_range\": (80, 100),\n",
    "        \"wave_range\": (-20, 20),\n",
    "        \"min_color_diff\": 250,\n",
    "    },\n",
    "    \"Handwritten.ttf\": {\n",
    "        \"font_size_range\": (100, 110),\n",
    "        \"image_width_x\": 48,\n",
    "        \"image_height_range\": (180, 200),\n",
    "        \"pos_x_range_x\": (0.1, 0.1),\n",
    "        \"pos_y_range_x\": (0.1, 0.3),\n",
    "        \"blur_range\": (0.5, 1.5),\n",
    "        \"jpeg_range\": (80, 100),\n",
    "        \"wave_range\": (-20, 20),\n",
    "        \"min_color_diff\": 200,\n",
    "    },\n",
    "    \"Handwritten - Italic.ttf\": {\n",
    "        \"font_size_range\": (100, 110),\n",
    "        \"image_width_x\": 45,\n",
    "        \"image_height_range\": (180, 200),\n",
    "        \"pos_x_range_x\": (0.05, 0.1),\n",
    "        \"pos_y_range_x\": (0.1, 0.3),\n",
    "        \"blur_range\": (0.5, 1.5),\n",
    "        \"jpeg_range\": (80, 100),\n",
    "        \"wave_range\": (-20, 20),\n",
    "        \"min_color_diff\": 200,\n",
    "    },\n",
    "    \"GreatVibes.ttf\": {\n",
    "        \"font_size_range\": (100, 110),\n",
    "        \"image_width_x\": 60,\n",
    "        \"image_height_range\": (180, 200),\n",
    "        \"pos_x_range_x\": (0.015, 0.1),\n",
    "        \"pos_y_range_x\": (0.1, 0.3),\n",
    "        \"blur_range\": (0.5, 1.5),\n",
    "        \"jpeg_range\": (80, 100),\n",
    "        \"wave_range\": (-20, 20),\n",
    "        \"min_color_diff\": 200,\n",
    "    },\n",
    "    \"Creattion.otf\": {\n",
    "        \"font_size_range\": (110, 120),\n",
    "        \"image_width_x\": 60,\n",
    "        \"image_height_range\": (150, 170),\n",
    "        \"pos_x_range_x\": (0.015, 0.1),\n",
    "        \"pos_y_range_x\": (0.02, 0.1),\n",
    "        \"blur_range\": (0.5, 1.5),\n",
    "        \"jpeg_range\": (80, 100),\n",
    "        \"wave_range\": (-20, 20),\n",
    "        \"min_color_diff\": 200,\n",
    "    },\n",
    "    \"CMTiempo.ttf\": {\n",
    "        \"font_size_range\": (50, 60),\n",
    "        \"image_width_x\": 40,\n",
    "        \"image_height_range\": (150, 170),\n",
    "        \"pos_x_range_x\": (0.1, 0.2),\n",
    "        \"pos_y_range_x\": (0.1, 0.3),\n",
    "        \"blur_range\": (0.5, 1.5),\n",
    "        \"jpeg_range\": (80, 100),\n",
    "        \"wave_range\": (-20, 20),\n",
    "        \"min_color_diff\": 120,\n",
    "    },\n",
    "    \"CASLBLSI.TTF\": {\n",
    "        \"font_size_range\": (50, 60),\n",
    "        \"image_width_x\": 50,\n",
    "        \"image_height_range\": (150, 170),\n",
    "        \"pos_x_range_x\": (0.1, 0.2),\n",
    "        \"pos_y_range_x\": (0.1, 0.3),\n",
    "        \"blur_range\": (0.5, 1.5),\n",
    "        \"jpeg_range\": (80, 100),\n",
    "        \"wave_range\": (-20, 20),\n",
    "        \"min_color_diff\": 200,\n",
    "    },\n",
    "    \"Bickham.otf\": {\n",
    "        \"font_size_range\": (150, 160),\n",
    "        \"image_width_x\": 80,\n",
    "        \"image_height_range\": (250, 300),\n",
    "        \"pos_x_range_x\": (0.1, 0.2),\n",
    "        \"pos_y_range_x\": (0.1, 0.3),\n",
    "        \"blur_range\": (0.5, 1.5),\n",
    "        \"jpeg_range\": (80, 100),\n",
    "        \"wave_range\": (-20, 20),\n",
    "        \"min_color_diff\": 200,\n",
    "    },\n",
    "    \"Bernhard.otf\": {\n",
    "        \"font_size_range\": (150, 160),\n",
    "        \"image_width_x\": 80,\n",
    "        \"image_height_range\": (250, 300),\n",
    "        \"pos_x_range_x\": (0.1, 0.2),\n",
    "        \"pos_y_range_x\": (0.2, 0.4),\n",
    "        \"blur_range\": (0.5, 1.5),\n",
    "        \"jpeg_range\": (80, 100),\n",
    "        \"wave_range\": (-20, 20),\n",
    "        \"min_color_diff\": 200,\n",
    "    },\n",
    "    \"Bemboza.ttf\": {\n",
    "        \"font_size_range\": (120, 160),\n",
    "        \"image_width_x\": 60,\n",
    "        \"image_height_range\": (250, 300),\n",
    "        \"pos_x_range_x\": (0.1, 0.3),\n",
    "        \"pos_y_range_x\": (0.2, 0.4),\n",
    "        \"blur_range\": (0.5, 1.5),\n",
    "        \"jpeg_range\": (80, 100),\n",
    "        \"wave_range\": (-12, 12),\n",
    "        \"min_color_diff\": 100,\n",
    "    },\n",
    "    \"AlexBrush.ttf\": {\n",
    "        \"font_size_range\": (80, 90),\n",
    "        \"image_width_x\": 50,\n",
    "        \"image_height_range\": (220, 270),\n",
    "        \"pos_x_range_x\": (0.1, 0.3),\n",
    "        \"pos_y_range_x\": (0.2, 0.4),\n",
    "        \"blur_range\": (0.5, 1.5),\n",
    "        \"jpeg_range\": (100, 100),\n",
    "        \"wave_range\": (-5, 5),\n",
    "        \"min_color_diff\": 200,\n",
    "    },\n",
    "    \"Akzidenz.ttf\": {\n",
    "        \"font_size_range\": (60, 75),\n",
    "        \"image_width_x\": 65,\n",
    "        \"image_height_range\": (125, 135),\n",
    "        \"pos_x_range_x\": (0.1, 0.45),\n",
    "        \"pos_y_range_x\": (0.2, 0.5),\n",
    "        \"blur_range\": (0.5, 1.5),\n",
    "        \"jpeg_range\": (90, 98),\n",
    "        \"wave_range\": (-10, 10),\n",
    "        \"min_color_diff\": 80,\n",
    "    },\n",
    "}\n",
    "\n",
    "generate_images(labels, '../datasets/multi-fonts-generated-text/', configs)\n",
    "\n"
   ]
  },
  {
   "cell_type": "code",
   "execution_count": null,
   "metadata": {},
   "outputs": [],
   "source": []
  },
  {
   "cell_type": "code",
   "execution_count": null,
   "metadata": {},
   "outputs": [],
   "source": []
  }
 ],
 "metadata": {
  "kernelspec": {
   "display_name": "Python 3",
   "language": "python",
   "name": "python3"
  },
  "language_info": {
   "codemirror_mode": {
    "name": "ipython",
    "version": 3
   },
   "file_extension": ".py",
   "mimetype": "text/x-python",
   "name": "python",
   "nbconvert_exporter": "python",
   "pygments_lexer": "ipython3",
   "version": "3.9.13"
  },
  "orig_nbformat": 4
 },
 "nbformat": 4,
 "nbformat_minor": 2
}
