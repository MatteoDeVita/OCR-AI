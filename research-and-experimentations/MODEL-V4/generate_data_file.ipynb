{
 "cells": [
  {
   "cell_type": "code",
   "execution_count": 1,
   "metadata": {},
   "outputs": [],
   "source": [
    "import os\n",
    "from tqdm.auto import tqdm\n",
    "import random\n",
    "from PIL import Image"
   ]
  },
  {
   "cell_type": "code",
   "execution_count": 2,
   "metadata": {},
   "outputs": [
    {
     "data": {
      "application/vnd.jupyter.widget-view+json": {
       "model_id": "94c464e743f6435f975ae6a89076cb21",
       "version_major": 2,
       "version_minor": 0
      },
      "text/plain": [
       "  0%|          | 0/500000 [00:00<?, ?it/s]"
      ]
     },
     "metadata": {},
     "output_type": "display_data"
    },
    {
     "data": {
      "application/vnd.jupyter.widget-view+json": {
       "model_id": "aebb3592bf7a4859be52dc51dbc2f0dc",
       "version_major": 2,
       "version_minor": 0
      },
      "text/plain": [
       "  0%|          | 0/500000 [00:00<?, ?it/s]"
      ]
     },
     "metadata": {},
     "output_type": "display_data"
    },
    {
     "data": {
      "application/vnd.jupyter.widget-view+json": {
       "model_id": "0e135747744944438f037913053bc994",
       "version_major": 2,
       "version_minor": 0
      },
      "text/plain": [
       "  0%|          | 0/1000000 [00:00<?, ?it/s]"
      ]
     },
     "metadata": {},
     "output_type": "display_data"
    },
    {
     "data": {
      "application/vnd.jupyter.widget-view+json": {
       "model_id": "75634375e4ab40c2a3f857c53d8dbf47",
       "version_major": 2,
       "version_minor": 0
      },
      "text/plain": [
       "  0%|          | 0/996791 [00:00<?, ?it/s]"
      ]
     },
     "metadata": {},
     "output_type": "display_data"
    }
   ],
   "source": [
    "def filter_data(data, len_range, max_space):\n",
    "    if data[\"label\"] is None:\n",
    "        return False\n",
    "    if len(data[\"label\"]) < len_range[0] or len(data[\"label\"]) > len_range[1]:\n",
    "        return False\n",
    "    if data[\"label\"].count(' ') > max_space:\n",
    "        return False\n",
    "    if data[\"label\"].isascii() == False:\n",
    "        return False    \n",
    "    for char in \"\\n\\r\\xad\\xa0\":\n",
    "        if char in data[\"label\"]:\n",
    "            return False\n",
    "    try:\n",
    "        image = Image.open(data[\"image_path\"])\n",
    "        image.verify()\n",
    "        if image.format != \"JPEG\" and image.format != \"PNG\":\n",
    "            print(\"not a valid format\")\n",
    "            return False\n",
    "    except:\n",
    "        print(\"invalid image or path\")\n",
    "        return False\n",
    "\n",
    "    # if os.path.exists(data[\"image_path\"]) == False:\n",
    "    #     return False\n",
    "    return True\n",
    "\n",
    "def generate_data_file(\n",
    "        data_file_dir,\n",
    "        multi_fonts_dir,\n",
    "        mjsynth_dir,\n",
    "        max_multi_fonts_len,\n",
    "        max_mjsynth_len,\n",
    "        len_range,\n",
    "        max_space\n",
    "):\n",
    "    dataset = []\n",
    "    data_file = open(os.path.join(data_file_dir, \"data.txt\"), \"a+\")\n",
    "    multi_fonts_data = open(os.path.join(multi_fonts_dir, 'data.txt')).readlines()\n",
    "    mjsynth_data = open(os.path.join(mjsynth_dir, \"imlist.txt\")).readlines()\n",
    "    random.shuffle(multi_fonts_data)\n",
    "    random.shuffle(mjsynth_data)\n",
    "    multi_fonts_data = multi_fonts_data[:max_multi_fonts_len]\n",
    "    mjsynth_data = mjsynth_data[:max_mjsynth_len]\n",
    "    for line in tqdm(multi_fonts_data):\n",
    "        splitted_line = line.split(' ', 1)\n",
    "        label = splitted_line[1].split('\\n')[0]\n",
    "        dataset.append({\"image_path\": os.path.join(multi_fonts_dir, splitted_line[0]), \"label\": label})\n",
    "    for image_name in tqdm(mjsynth_data):\n",
    "        image_name = image_name.split('\\n')[0]\n",
    "        label = image_name.split('/')[-1].split('_')[1]\n",
    "        dataset.append({\"image_path\": os.path.join(mjsynth_dir, image_name), \"label\": label})\n",
    "    random.shuffle(dataset)\n",
    "    dataset = list(filter(lambda data: filter_data(data, len_range, max_space), tqdm(dataset)))\n",
    "    for data in tqdm(dataset):\n",
    "        data_file.write(f\"{data['image_path']} {data['label']}\\n\")\n",
    "    data_file.close()\n",
    "generate_data_file(\n",
    "    \"./\",\n",
    "    \"../../datasets/multi-fonts-generated-text/\",\n",
    "    \"../../datasets/mjsynth/mnt/ramdisk/max/90kDICT32px/\",\n",
    "    500_000,\n",
    "    500_000,\n",
    "    len_range=(3, 32),\n",
    "    max_space=3\n",
    ")"
   ]
  },
  {
   "cell_type": "code",
   "execution_count": null,
   "metadata": {},
   "outputs": [],
   "source": []
  }
 ],
 "metadata": {
  "kernelspec": {
   "display_name": "base",
   "language": "python",
   "name": "python3"
  },
  "language_info": {
   "codemirror_mode": {
    "name": "ipython",
    "version": 3
   },
   "file_extension": ".py",
   "mimetype": "text/x-python",
   "name": "python",
   "nbconvert_exporter": "python",
   "pygments_lexer": "ipython3",
   "version": "3.9.13"
  },
  "orig_nbformat": 4
 },
 "nbformat": 4,
 "nbformat_minor": 2
}
