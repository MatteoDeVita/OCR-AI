{
 "cells": [
  {
   "cell_type": "code",
   "execution_count": 1,
   "metadata": {},
   "outputs": [],
   "source": [
    "import json\n",
    "import urllib.request\n",
    "import os\n",
    "\n",
    "wines = json.load(open(\"./vin_db.json\"))\n",
    "\n",
    "for i in range(len(wines)):\n",
    "    try:\n",
    "        os.makedirs(f'./data/{i}', exist_ok=True)\n",
    "        urllib.request.urlretrieve(wines[i]['poster'], f'./data/{i}/image.png')\n",
    "        text_file = open(f'./data/{i}/name.txt', 'w+')\n",
    "        text_file.write(wines[i]['title'])\n",
    "        text_file.close()\n",
    "    except:\n",
    "        print(f\"ERROR WITH WINE NB {i} : {wines[i]['title']}\")\n"
   ]
  },
  {
   "attachments": {},
   "cell_type": "markdown",
   "metadata": {},
   "source": []
  },
  {
   "cell_type": "code",
   "execution_count": 2,
   "metadata": {},
   "outputs": [
    {
     "name": "stdout",
     "output_type": "stream",
     "text": [
      "ERROR WITH WINE NB 5571 : Longboard 2007 Wholer Vineyard Pinotage (Russian River Valley)\n"
     ]
    }
   ],
   "source": []
  },
  {
   "cell_type": "code",
   "execution_count": null,
   "metadata": {},
   "outputs": [],
   "source": []
  }
 ],
 "metadata": {
  "kernelspec": {
   "display_name": "base",
   "language": "python",
   "name": "python3"
  },
  "language_info": {
   "codemirror_mode": {
    "name": "ipython",
    "version": 3
   },
   "file_extension": ".py",
   "mimetype": "text/x-python",
   "name": "python",
   "nbconvert_exporter": "python",
   "pygments_lexer": "ipython3",
   "version": "3.9.13 (main, Aug 25 2022, 23:26:10) \n[GCC 11.2.0]"
  },
  "orig_nbformat": 4,
  "vscode": {
   "interpreter": {
    "hash": "f6a5e76a99c0511a31decff2f843de6b15227c9a58b9fb2d2d9b4eba74a67e12"
   }
  }
 },
 "nbformat": 4,
 "nbformat_minor": 2
}
