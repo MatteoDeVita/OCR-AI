{
 "cells": [
  {
   "cell_type": "code",
   "execution_count": 2,
   "id": "e97bbb86-1e9e-4f4e-ae5d-66433fed9b92",
   "metadata": {},
   "outputs": [],
   "source": [
    "from pickletools import uint8\n",
    "from turtle import color\n",
    "import numpy as np\n",
    "import matplotlib.pyplot as plt\n",
    "import os\n",
    "import sys\n",
    "from MNISTManager import MNISTManager\n",
    "from operator import itemgetter\n",
    "from terminaltables import AsciiTable\n"
   ]
  },
  {
   "cell_type": "markdown",
   "id": "4f8fad51",
   "metadata": {},
   "source": [
    "> _Import each matrices in a dictionnary like this :_\n",
    "* trainingImages : 60000 training 28*28 images\n",
    "* trainingLabels : 60000 labels for each training images\n",
    "* testingImages : 10000 testing 28*28 images\n",
    "* testingLabels : 10000 labels for each testing images"
   ]
  },
  {
   "cell_type": "code",
   "execution_count": 4,
   "id": "2ad2566c",
   "metadata": {},
   "outputs": [],
   "source": [
    "from MNISTManager import MNISTManager\n",
    "\n",
    "matrices = MNISTManager(\n",
    "    os.path.abspath('') + \"/datasets/train-images-idx3-ubyte.gz\",\n",
    "    os.path.abspath('') + \"/datasets/train-labels-idx1-ubyte.gz\",\n",
    "    os.path.abspath('') + \"/datasets/t10k-images-idx3-ubyte.gz\",\n",
    "    os.path.abspath('') + \"/datasets/t10k-labels-idx1-ubyte.gz\",\n",
    ").getMatrices()"
   ]
  },
  {
   "cell_type": "markdown",
   "id": "8fd8f959",
   "metadata": {},
   "source": [
    "> _Define utilitaries functions_"
   ]
  },
  {
   "cell_type": "code",
   "execution_count": 5,
   "id": "646116d5",
   "metadata": {},
   "outputs": [],
   "source": [
    "def getEuclidianDistance(x, y): return np.sqrt(np.sum(x - y)**2) #get the euclidian distance between 2 matrices\n",
    "\n",
    "def getKNearestNeighbors(k, sortedDistances): #given a value of k and a sorteed distances list, returns the k neirest neighbors in an new list\n",
    "    kDistances = sortedDistances[:k]\n",
    "    return [x[1] for x in kDistances]\n",
    "\n",
    "def getAccuraryPercentage(predictedLabels, realLabels): #get the acccuracy of the given labels list compared to the training labels\n",
    "    accuracy = 0\n",
    "    for i in range(len(predictedLabels)):\n",
    "        if realLabels[i] == predictedLabels[i]:\n",
    "            accuracy += 1\n",
    "    return (accuracy / len(predictedLabels) * 100)\n",
    "\n",
    "def printProgression(x):\n",
    "    print(f\"\\t{x}%\", end='\\r')\n",
    "    sys.stdout.flush()"
   ]
  },
  {
   "cell_type": "markdown",
   "id": "7e7f1e12",
   "metadata": {},
   "source": [
    ">_Define the getKNearestCorrespondingLabels function_"
   ]
  },
  {
   "cell_type": "code",
   "execution_count": 6,
   "id": "562d3c36",
   "metadata": {},
   "outputs": [],
   "source": [
    "def getKNearestCorrespondingLabels(k, imageDataset, labelDataset, kValuesData=None): #kValuesData = tuple(kIndex, kValuesLength)\n",
    "    correspondingLabels = []\n",
    "    batchSize = len(imageDataset)\n",
    "    for i in range(batchSize):\n",
    "        distances = []\n",
    "        printProgression(\n",
    "            f\"\\t{ round(   ((kValuesData[0] / kValuesData[1] * 100) + ( (i / batchSize) ) / kValuesData[1] * 100 ), 5   ) }%\"\n",
    "            if kValuesData != None\n",
    "            else f\"\\t{round( (i / batchSize) * 100, 5 )}%\",\n",
    "        )\n",
    "        for j in range(len(imageDataset)):\n",
    "            distances.append( ( getEuclidianDistance(imageDataset[i], imageDataset[j]), labelDataset[j] ) )\n",
    "        distances.sort(key = lambda x : x[0])\n",
    "        kNearestNeighbors = getKNearestNeighbors(k, distances)\n",
    "        correspondingLabels.append( max( kNearestNeighbors, key=kNearestNeighbors.count ) ) #for each image, we add the most propable neigbor for the current value of k    \n",
    "    return correspondingLabels\n"
   ]
  },
  {
   "cell_type": "markdown",
   "id": "9ece9178",
   "metadata": {},
   "source": [
    ">_KNN algorithm to get the best value of K_"
   ]
  },
  {
   "cell_type": "code",
   "execution_count": 7,
   "id": "0d0de013",
   "metadata": {},
   "outputs": [
    {
     "name": "stdout",
     "output_type": "stream",
     "text": [
      "+----------+-------+---------+-------+---------+\n",
      "| K        | 3     | 5       | 7     | 9       |\n",
      "+----------+-------+---------+-------+---------+\n",
      "| Accuracy | 86.0% | 66.167% | 53.5% | 49.833% |\n",
      "+----------+-------+---------+-------+---------+\n",
      "K value is : 3\n"
     ]
    }
   ],
   "source": [
    "def train(batchSize = 600): #returns K\n",
    "    kValues = [(3, 0),(5, 0), (7, 0), (9, 0)]  #[(kNeigbors, accuracyPercentage)] possible k values\n",
    "    for kIndex in range(len(kValues)):\n",
    "        correspondingLabels = getKNearestCorrespondingLabels(\n",
    "            kValues[kIndex][0], matrices['trainingImages'][:batchSize],\n",
    "            matrices['trainingLabels'][:batchSize],\n",
    "            (kIndex, len(kValues))\n",
    "        )\n",
    "        kValues[kIndex] = (kValues[kIndex][0], getAccuraryPercentage(correspondingLabels, matrices['trainingLabels'][:batchSize]))\n",
    "    #print a basic table of k stats\n",
    "    kValuesTable = AsciiTable(\n",
    "        [\n",
    "            [\"K\"] + [x[0] for x in kValues],\n",
    "            [\"Accuracy\"] + [str( round( x[1] , 3 ) ) + \"%\" for x in kValues]\n",
    "        ]\n",
    "    )\n",
    "    print(kValuesTable.table)\n",
    "    return max(kValues, key=itemgetter(1))[0] # we keep only the best accuracy of each k values\n",
    "\n",
    "k = train(600)\n",
    "print(f\"K value is : {k}\")"
   ]
  },
  {
   "cell_type": "markdown",
   "id": "345e4f67",
   "metadata": {},
   "source": [
    "> _We store the predicted values using the testing set and the k value_"
   ]
  },
  {
   "cell_type": "code",
   "execution_count": 8,
   "id": "7b28024b",
   "metadata": {},
   "outputs": [
    {
     "name": "stdout",
     "output_type": "stream",
     "text": [
      "\t99.8%\r"
     ]
    }
   ],
   "source": [
    "from numpy import append\n",
    "\n",
    "testingBatchSize = 500\n",
    "\n",
    "def getPredictedValues(k, batchSize = 100): #we set a limit to limit time process\n",
    "    predictedValues = []\n",
    "    for i in range(batchSize):\n",
    "        distances = []\n",
    "        printProgression( round( (i / batchSize) * 100, 5 ))\n",
    "        for j in range(batchSize):\n",
    "            distances.append( (  getEuclidianDistance(matrices['testingImages'][i], matrices['testingImages'][j]) , matrices['testingLabels'][j]) )\n",
    "            distances.sort(key = lambda x : x[0]) #sort by distance\n",
    "        kNearestNeighbors = getKNearestNeighbors(k, distances)\n",
    "        predictedValues.append(max( kNearestNeighbors, key=kNearestNeighbors.count ))\n",
    "    return predictedValues\n",
    "\n",
    "predictedValues = getPredictedValues(k, testingBatchSize)\n",
    "\n"
   ]
  },
  {
   "cell_type": "markdown",
   "id": "4a24e95b",
   "metadata": {},
   "source": [
    ">_Plot the confusion matrix_"
   ]
  },
  {
   "cell_type": "code",
   "execution_count": 9,
   "id": "dc321da9",
   "metadata": {},
   "outputs": [
    {
     "name": "stdout",
     "output_type": "stream",
     "text": [
      "Accuracy : 86.8%\n"
     ]
    },
    {
     "data": {
      "image/png": "[encoded data removed]",
      "text/plain": [
       "<Figure size 1000x700 with 2 Axes>"
      ]
     },
     "metadata": {},
     "output_type": "display_data"
    }
   ],
   "source": [
    "from sklearn import metrics\n",
    "import seaborn as sn\n",
    "\n",
    "def plotConfusionMatrix(realValues, predictedValues):\n",
    "    cm = metrics.confusion_matrix(realValues, predictedValues)\n",
    "    plt.figure(figsize=(10, 7))    \n",
    "    plt.title(\"Confusion Matrix\")\n",
    "    snHeatmap = sn.heatmap(cm, annot=True, cmap='RdPu')\n",
    "    snHeatmap.set(xlabel='Predicted Values', ylabel='Real Values')\n",
    "\n",
    "plotConfusionMatrix(matrices['testingLabels'][:testingBatchSize].tolist(), predictedValues)\n",
    "print(f\"Accuracy : {getAccuraryPercentage(predictedValues, matrices['testingLabels'][:testingBatchSize])}%\")"
   ]
  },
  {
   "cell_type": "code",
   "execution_count": null,
   "id": "3aae4e17",
   "metadata": {},
   "outputs": [],
   "source": []
  }
 ],
 "metadata": {
  "kernelspec": {
   "display_name": "Python 3.9.13 ('base')",
   "language": "python",
   "name": "python3"
  },
  "language_info": {
   "codemirror_mode": {
    "name": "ipython",
    "version": 3
   },
   "file_extension": ".py",
   "mimetype": "text/x-python",
   "name": "python",
   "nbconvert_exporter": "python",
   "pygments_lexer": "ipython3",
   "version": "3.9.13"
  },
  "vscode": {
   "interpreter": {
    "hash": "f6a5e76a99c0511a31decff2f843de6b15227c9a58b9fb2d2d9b4eba74a67e12"
   }
  }
 },
 "nbformat": 4,
 "nbformat_minor": 5
}
