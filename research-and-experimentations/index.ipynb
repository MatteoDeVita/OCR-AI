{
 "cells": [
  {
   "attachments": {},
   "cell_type": "markdown",
   "metadata": {},
   "source": [
    "This short intro uses Keras for :\n",
    "1. Uses Keras to load predefined dataset\n",
    "2. Create an automatic neureal network machine learning model that classifies images\n",
    "3. Train this neural network\n",
    "4. Evaluate the accuracy of the model"
   ]
  },
  {
   "attachments": {},
   "cell_type": "markdown",
   "metadata": {},
   "source": [
    "Configure TensorFlow\n",
    "Start by importing TensorFlow\n"
   ]
  },
  {
   "cell_type": "code",
   "execution_count": 1,
   "metadata": {},
   "outputs": [
    {
     "name": "stdout",
     "output_type": "stream",
     "text": [
      "TensorFlow version: 2.11.0\n"
     ]
    }
   ],
   "source": [
    "import os\n",
    "os.environ['TF_CPP_MIN_LOG_LEVEL'] = '3'  # or any {'0', '1', '2'}\n",
    "import numpy as np\n",
    "import tensorflow as tf\n",
    "\n",
    "print(\"TensorFlow version:\", tf.__version__)"
   ]
  },
  {
   "attachments": {},
   "cell_type": "markdown",
   "metadata": {},
   "source": [
    "## Load the dataset\n",
    "\n",
    "Load the MNIST dataset. Convert the whole number examples in floating point number.\n",
    "The pixel values of the images range from 0 trough 255. Scale these values to a range of 0 to 1 by dividing the values by 255.0. This also convert from int to float"
   ]
  },
  {
   "cell_type": "code",
   "execution_count": 18,
   "metadata": {},
   "outputs": [],
   "source": [
    "import sys\n",
    "import numpy\n",
    "\n",
    "numpy.set_printoptions(threshold=sys.maxsize)\n",
    "\n",
    "mnist = tf.keras.datasets.mnist\n",
    "\n",
    "(x_train, y_train), (x_test, y_test) = mnist.load_data()\n",
    "x_train, x_test = x_train / 255.0, x_test / 255.0  # These are matrices the max value is 255 so we divide by 255 to get values float values between 0 and 1"
   ]
  },
  {
   "attachments": {},
   "cell_type": "markdown",
   "metadata": {},
   "source": [
    "## Build a machine learning model\n",
    "\n",
    "Create an automatic learning model\n",
    "Create a model tf.keras.Sequential by stacking layers \n",
    "\n",
    "1. With Keras, there is 2 ways of building models : \n",
    "\n",
    "    - **Sequential** model : Allow to build model layer by layer. Does not allow to create models that share layers or have multiple inputs or outputs.\n",
    "    - **Functional** model : Allow to create fare more complexe models. Layers are not only connected to the previous and the next one but can be connected to any other one. \n",
    "    \n",
    "        This allow to create networks such as siamese or residual networks\n",
    "    - So Sequential is useful for stacking layers where each layer has one input **tensor** and one output **tensor**\n",
    "    - A **tensor** is an array in Tensorflow. It is like a np.arrays in NumPy. Basically, they are used like matrices in the neural networks computations. they can be rank-0 (constant array), rank-1 (1-D array), rank-2 (2-D array), etc...\n",
    "    - Layers are function with a known mathematical structure that can be reused and have trainable variables. Most Tensorflow models are composed of layers.\n",
    "    - **Flatten layer** : collapses the spatial dimension of the input into the channel dimension. Ex : input = H by W by C by N by S array (sequence oif images), then the flattened output is (H\\*W\\*B) by N by S array. \n",
    "\n",
    "        In our example, the Dense layer is using a 128-d vector so the Flatten layer will automaticcaly transform the input to match the requirements of the Dense layer\n",
    "    - **Dense layer** : The Dense layer is a neural network that is **connected deeply**. This means that each neuron in the dense layer is receiving input from all neurons of its previous layer. Most commonly used layer in the models. \n",
    "        \n",
    "        In the background, the dense layer performs a matric-vector multiplication. The values used in the matrix are actually parameters that can be trained and updated with the help of backpropagation. \n",
    "        \n",
    "            keras.layers.Dense(units, activation=None, use_bias=True, ...) \n",
    "\n",
    "                - units = represents the output size of the layer. It is the unit parameter itself that plays a major role in the size of the weight matrix along the basic vector \n",
    "\n",
    "                - activation = activation function = function that decides wether a neuron should be activated or not by calculating the weighted sum and further adding bias to it. \n",
    "\n",
    "                **Weight*** increase the steepness of activation function = (how fast the activation function will trigger). Whereas the **Bias** is used to delay the triggerinf of the activation function. \n",
    "                It may be critical for successful training.\n",
    "                \n",
    "                The purpose is to introduce a non-linearity into the output of a neuron. Makes the back-propagation possible. \n",
    "                There is a lot of different activation functions with differnets outcomes and roles.  \n",
    "\n",
    "                - use_bias = wether we should use bias or not, default is True. \n",
    "\n",
    "    - **Dropout layer** : randomly sets input units to 0 with a frequency of rate at each step during training. = Drop some inputs, which help prevent overfitting. \n",
    "\n",
    "        - overfitting = a model that models the training data too well = rely too much on the training data instead of learning how to find output by itself. \n",
    "        - underfitting = a model that can neither model the training data nor generalize to new data. \n",
    "        - **Ideally, we want a model at the sweet spot between overfitting and underfitting.**\n",
    "    "
   ]
  },
  {
   "cell_type": "code",
   "execution_count": 3,
   "metadata": {},
   "outputs": [
    {
     "name": "stdout",
     "output_type": "stream",
     "text": [
      "Model: \"sequential\"\n",
      "_________________________________________________________________\n",
      " Layer (type)                Output Shape              Param #   \n",
      "=================================================================\n",
      " flatten (Flatten)           (None, 784)               0         \n",
      "                                                                 \n",
      " dense (Dense)               (None, 128)               100480    \n",
      "                                                                 \n",
      " dropout (Dropout)           (None, 128)               0         \n",
      "                                                                 \n",
      " dense_1 (Dense)             (None, 10)                1290      \n",
      "                                                                 \n",
      "=================================================================\n",
      "Total params: 101,770\n",
      "Trainable params: 101,770\n",
      "Non-trainable params: 0\n",
      "_________________________________________________________________\n"
     ]
    }
   ],
   "source": [
    "\n",
    "model = tf.keras.models.Sequential([\n",
    "    tf.keras.layers.Flatten(input_shape=(28, 28)),\n",
    "    tf.keras.layers.Dense(128, activation='relu'),\n",
    "    tf.keras.layers.Dropout(0.2),\n",
    "    tf.keras.layers.Dense(10)\n",
    "])\n",
    "\n",
    "model.summary()"
   ]
  },
  {
   "attachments": {},
   "cell_type": "markdown",
   "metadata": {},
   "source": [
    "\n",
    "- The model returns a vector of **logits** or **log-odds** : \n",
    "    - **logits** : The vector of raw (= non-normalized) predictions that the classification model generates. **KEEP IN MIND THAT THE PREDICTIONS HAVE TO BE NORMALIZED USING A NORMALIZATION FUNCTION (LIKE SOFTMAX ?) AFTERWARD**\n",
    "    - **log-odds**: The logarithm of the odds of some events."
   ]
  },
  {
   "cell_type": "code",
   "execution_count": 4,
   "metadata": {},
   "outputs": [
    {
     "data": {
      "text/plain": [
       "array([[ 0.49722886,  0.65349144,  0.11298701, -0.31919092, -0.61132145,\n",
       "         0.88351756, -0.1698367 , -0.43340534, -0.32834166, -0.84037584]],\n",
       "      dtype=float32)"
      ]
     },
     "execution_count": 4,
     "metadata": {},
     "output_type": "execute_result"
    }
   ],
   "source": [
    "predictions = model(x_train[:1]).numpy() # !! we need to pass an array to the model so we can NOT call it with x_train[0] since it will returns only the value, this is why we use x_train[:1]. [3, 4, 5][0] = 3 WHEREAS [3, 4, 5][:1] = [3]\n",
    "predictions"
   ]
  },
  {
   "attachments": {},
   "cell_type": "markdown",
   "metadata": {},
   "source": [
    "The _tf.nn.softmax_ functon converts these logits to probabilities for each class. This is the normalization function."
   ]
  },
  {
   "cell_type": "code",
   "execution_count": 5,
   "metadata": {},
   "outputs": [
    {
     "data": {
      "text/plain": [
       "array([[0.14921737, 0.174455  , 0.10161207, 0.06595577, 0.04924727,\n",
       "        0.2195748 , 0.0765802 , 0.05883695, 0.06535499, 0.03916563]],\n",
       "      dtype=float32)"
      ]
     },
     "execution_count": 5,
     "metadata": {},
     "output_type": "execute_result"
    }
   ],
   "source": [
    "tf.nn.softmax(predictions).numpy()"
   ]
  },
  {
   "cell_type": "markdown",
   "metadata": {},
   "source": [
    "**Note: It is possible to bake the tf.nn.softmax function into the activation function for the last layer of the network. While this can make the model output more directly interpretable, this approach is discouraged as it's impossible to provide an exact and numerically stable loss calculation for all models when using a softmax output.**"
   ]
  },
  {
   "attachments": {},
   "cell_type": "markdown",
   "metadata": {},
   "source": [
    "Define a loss unfciton for training using **losses.SparseCategoricalCrossentropy**\n"
   ]
  },
  {
   "cell_type": "code",
   "execution_count": 6,
   "metadata": {},
   "outputs": [],
   "source": [
    "loss_fn = tf.keras.losses.SparseCategoricalCrossentropy(from_logits=True)"
   ]
  },
  {
   "attachments": {},
   "cell_type": "markdown",
   "metadata": {},
   "source": [
    "The loss function takes a vector of ground truth values (= real value from dataset, value we know to be true) and a vector of logits anrd returns a scalar loss for each example. \n",
    "This loss is equal to the negative log probability of the true class: The loss is zero if the model is sure of the correct class.\n",
    "This untrained model gives probabilities close to random (1/10 for each class), so the initial loss should be close to ```tf.math.log(1/10) ~= 2.3```"
   ]
  },
  {
   "cell_type": "code",
   "execution_count": 7,
   "metadata": {},
   "outputs": [
    {
     "data": {
      "text/plain": [
       "1.5160624"
      ]
     },
     "execution_count": 7,
     "metadata": {},
     "output_type": "execute_result"
    }
   ],
   "source": [
    "loss_fn(y_train[:1], predictions).numpy()"
   ]
  },
  {
   "attachments": {},
   "cell_type": "markdown",
   "metadata": {},
   "source": [
    "Before you start training, configure and compile the model using Keras ``Model.compile``. Set the optimize class to ``\"adam\"``, set the the ``loss`` ``loss_fn`` function you defined earlier, and specify a metric to be evaluated for the model by settings the ``metrics`` parameters to ``accuracy``.\n",
    "\n",
    "Adam is an optimization algorithm that can be used instead of the classical stochastic gradient descent procedure to update network weights iterative based in training data.\n"
   ]
  },
  {
   "cell_type": "code",
   "execution_count": 8,
   "metadata": {},
   "outputs": [],
   "source": [
    "model.compile(\n",
    "    optimizer='adam',\n",
    "    loss=loss_fn,\n",
    "    metrics=['accuracy']\n",
    ")"
   ]
  },
  {
   "attachments": {},
   "cell_type": "markdown",
   "metadata": {},
   "source": [
    "## Train and evaluate your model\n",
    "\n",
    "Use the ``Model.fit`` method to adjust your model parameters and minimize the loss:"
   ]
  },
  {
   "cell_type": "code",
   "execution_count": 9,
   "metadata": {},
   "outputs": [
    {
     "name": "stdout",
     "output_type": "stream",
     "text": [
      "Epoch 1/5\n",
      "1875/1875 [==============================] - 8s 4ms/step - loss: 0.3000 - accuracy: 0.9138\n",
      "Epoch 2/5\n",
      "1875/1875 [==============================] - 7s 4ms/step - loss: 0.1452 - accuracy: 0.9564\n",
      "Epoch 3/5\n",
      "1875/1875 [==============================] - 6s 3ms/step - loss: 0.1083 - accuracy: 0.9667\n",
      "Epoch 4/5\n",
      "1875/1875 [==============================] - 6s 3ms/step - loss: 0.0874 - accuracy: 0.9725\n",
      "Epoch 5/5\n",
      "1875/1875 [==============================] - 7s 4ms/step - loss: 0.0744 - accuracy: 0.9768\n"
     ]
    },
    {
     "data": {
      "text/plain": [
       "<keras.callbacks.History at 0x7f82ad096c10>"
      ]
     },
     "execution_count": 9,
     "metadata": {},
     "output_type": "execute_result"
    }
   ],
   "source": [
    "model.fit(x_train, y_train, epochs=5)"
   ]
  },
  {
   "attachments": {},
   "cell_type": "markdown",
   "metadata": {},
   "source": [
    "The ``Model.evaluate`` method checks the model's performance, usually on a validation set or test set."
   ]
  },
  {
   "cell_type": "code",
   "execution_count": 10,
   "metadata": {},
   "outputs": [
    {
     "name": "stdout",
     "output_type": "stream",
     "text": [
      "313/313 - 1s - loss: 0.0770 - accuracy: 0.9774 - 1s/epoch - 3ms/step\n"
     ]
    },
    {
     "data": {
      "text/plain": [
       "[0.07701293379068375, 0.977400004863739]"
      ]
     },
     "execution_count": 10,
     "metadata": {},
     "output_type": "execute_result"
    }
   ],
   "source": [
    "model.evaluate(x_test, y_test, verbose=2)"
   ]
  },
  {
   "attachments": {},
   "cell_type": "markdown",
   "metadata": {},
   "source": [
    "The image classifier is now trained to ~98% accuracy on this dataset.\n",
    "\n",
    "If you want your model to return a probability, you can wrap the trained model, and attach the softmax to it :"
   ]
  },
  {
   "cell_type": "code",
   "execution_count": 11,
   "metadata": {},
   "outputs": [
    {
     "data": {
      "text/plain": [
       "<tf.Tensor: shape=(5, 10), dtype=float32, numpy=\n",
       "array([[6.07538198e-08, 5.60188127e-08, 6.20627861e-06, 3.90672722e-05,\n",
       "        2.25451241e-10, 4.58226907e-07, 1.14042695e-12, 9.99950528e-01,\n",
       "        2.69306810e-07, 3.25400561e-06],\n",
       "       [2.83171753e-09, 6.07930997e-05, 9.99925852e-01, 1.24910584e-05,\n",
       "        2.34206050e-14, 5.20975163e-07, 1.63246611e-07, 5.64980768e-14,\n",
       "        7.97295741e-08, 1.63764185e-16],\n",
       "       [4.14591750e-06, 9.98629928e-01, 3.35483404e-04, 1.18474863e-05,\n",
       "        2.35423911e-04, 1.22813808e-05, 2.49609111e-05, 6.78999582e-04,\n",
       "        6.65048210e-05, 4.01648151e-07],\n",
       "       [9.99186933e-01, 2.41832481e-07, 2.56106432e-04, 6.63312130e-06,\n",
       "        2.25359054e-06, 4.91436513e-05, 4.24302212e-04, 5.99951054e-05,\n",
       "        1.88149306e-06, 1.24960125e-05],\n",
       "       [7.93751667e-07, 8.01753997e-10, 2.52020158e-07, 2.25852208e-08,\n",
       "        9.92080033e-01, 8.27514484e-08, 1.02170225e-06, 2.29308807e-05,\n",
       "        2.58874763e-07, 7.89453182e-03]], dtype=float32)>"
      ]
     },
     "execution_count": 11,
     "metadata": {},
     "output_type": "execute_result"
    }
   ],
   "source": [
    "probability_model = tf.keras.Sequential([\n",
    "    model,\n",
    "    tf.keras.layers.Softmax()\n",
    "])\n",
    "\n",
    "probability_model(x_test[:5])"
   ]
  },
  {
   "cell_type": "code",
   "execution_count": 12,
   "metadata": {},
   "outputs": [
    {
     "name": "stdout",
     "output_type": "stream",
     "text": [
      "1/1 [==============================] - 0s 62ms/step\n",
      "q len = 1\n",
      "result = 7\n",
      "found result = 7\n",
      "1/1 [==============================] - 0s 20ms/step\n",
      "q len = 1\n",
      "result = 2\n",
      "found result = 2\n",
      "1/1 [==============================] - 0s 18ms/step\n",
      "q len = 1\n",
      "result = 1\n",
      "found result = 1\n",
      "1/1 [==============================] - 0s 18ms/step\n",
      "q len = 1\n",
      "result = 0\n",
      "found result = 0\n",
      "1/1 [==============================] - 0s 20ms/step\n",
      "q len = 1\n",
      "result = 4\n",
      "found result = 4\n",
      "1/1 [==============================] - 0s 20ms/step\n",
      "q len = 1\n",
      "result = 1\n",
      "found result = 1\n",
      "1/1 [==============================] - 0s 18ms/step\n",
      "q len = 1\n",
      "result = 4\n",
      "found result = 4\n",
      "1/1 [==============================] - 0s 17ms/step\n",
      "q len = 1\n",
      "result = 9\n",
      "found result = 9\n",
      "1/1 [==============================] - 0s 17ms/step\n",
      "q len = 1\n",
      "result = 5\n",
      "found result = 5\n",
      "1/1 [==============================] - 0s 18ms/step\n",
      "q len = 1\n",
      "result = 9\n",
      "found result = 9\n",
      "1/1 [==============================] - 0s 18ms/step\n",
      "q len = 1\n",
      "result = 0\n",
      "found result = 0\n",
      "1/1 [==============================] - 0s 20ms/step\n",
      "q len = 1\n",
      "result = 6\n",
      "found result = 6\n",
      "1/1 [==============================] - 0s 24ms/step\n",
      "q len = 1\n",
      "result = 9\n",
      "found result = 9\n",
      "1/1 [==============================] - 0s 18ms/step\n",
      "q len = 1\n",
      "result = 0\n",
      "found result = 0\n",
      "1/1 [==============================] - 0s 20ms/step\n",
      "q len = 1\n",
      "result = 1\n",
      "found result = 1\n",
      "1/1 [==============================] - 0s 20ms/step\n",
      "q len = 1\n",
      "result = 5\n",
      "found result = 5\n",
      "1/1 [==============================] - 0s 19ms/step\n",
      "q len = 1\n",
      "result = 9\n",
      "found result = 9\n",
      "1/1 [==============================] - 0s 19ms/step\n",
      "q len = 1\n",
      "result = 7\n",
      "found result = 7\n",
      "1/1 [==============================] - 0s 19ms/step\n",
      "q len = 1\n",
      "result = 3\n",
      "found result = 3\n",
      "1/1 [==============================] - 0s 19ms/step\n",
      "q len = 1\n",
      "result = 4\n",
      "found result = 4\n",
      "1/1 [==============================] - 0s 19ms/step\n",
      "q len = 1\n",
      "result = 9\n",
      "found result = 9\n",
      "1/1 [==============================] - 0s 19ms/step\n",
      "q len = 1\n",
      "result = 6\n",
      "found result = 6\n",
      "1/1 [==============================] - 0s 18ms/step\n",
      "q len = 1\n",
      "result = 6\n",
      "found result = 6\n",
      "1/1 [==============================] - 0s 18ms/step\n",
      "q len = 1\n",
      "result = 5\n",
      "found result = 5\n",
      "1/1 [==============================] - 0s 19ms/step\n",
      "q len = 1\n",
      "result = 4\n",
      "found result = 4\n",
      "1/1 [==============================] - 0s 18ms/step\n",
      "q len = 1\n",
      "result = 0\n",
      "found result = 0\n",
      "1/1 [==============================] - 0s 18ms/step\n",
      "q len = 1\n",
      "result = 7\n",
      "found result = 7\n",
      "1/1 [==============================] - 0s 17ms/step\n",
      "q len = 1\n",
      "result = 4\n",
      "found result = 4\n",
      "1/1 [==============================] - 0s 17ms/step\n",
      "q len = 1\n",
      "result = 0\n",
      "found result = 0\n",
      "1/1 [==============================] - 0s 17ms/step\n",
      "q len = 1\n",
      "result = 1\n",
      "found result = 1\n",
      "1/1 [==============================] - 0s 17ms/step\n",
      "q len = 1\n",
      "result = 3\n",
      "found result = 3\n",
      "1/1 [==============================] - 0s 18ms/step\n",
      "q len = 1\n",
      "result = 1\n",
      "found result = 1\n",
      "1/1 [==============================] - 0s 19ms/step\n",
      "q len = 1\n",
      "result = 3\n",
      "found result = 3\n",
      "1/1 [==============================] - 0s 17ms/step\n",
      "q len = 1\n",
      "result = 4\n",
      "found result = 4\n",
      "1/1 [==============================] - 0s 17ms/step\n",
      "q len = 1\n",
      "result = 7\n",
      "found result = 7\n",
      "1/1 [==============================] - 0s 17ms/step\n",
      "q len = 1\n",
      "result = 2\n",
      "found result = 2\n",
      "1/1 [==============================] - 0s 18ms/step\n",
      "q len = 1\n",
      "result = 7\n",
      "found result = 7\n",
      "1/1 [==============================] - 0s 18ms/step\n",
      "q len = 1\n",
      "result = 1\n",
      "found result = 1\n",
      "1/1 [==============================] - 0s 18ms/step\n",
      "q len = 1\n",
      "result = 2\n",
      "found result = 2\n",
      "1/1 [==============================] - 0s 18ms/step\n",
      "q len = 1\n",
      "result = 1\n",
      "found result = 1\n",
      "1/1 [==============================] - 0s 18ms/step\n",
      "q len = 1\n",
      "result = 1\n",
      "found result = 1\n",
      "1/1 [==============================] - 0s 18ms/step\n",
      "q len = 1\n",
      "result = 7\n",
      "found result = 7\n",
      "1/1 [==============================] - 0s 17ms/step\n",
      "q len = 1\n",
      "result = 4\n",
      "found result = 4\n",
      "1/1 [==============================] - 0s 20ms/step\n",
      "q len = 1\n",
      "result = 2\n",
      "found result = 2\n",
      "1/1 [==============================] - 0s 20ms/step\n",
      "q len = 1\n",
      "result = 3\n",
      "found result = 3\n",
      "1/1 [==============================] - 0s 18ms/step\n",
      "q len = 1\n",
      "result = 5\n",
      "found result = 5\n",
      "1/1 [==============================] - 0s 21ms/step\n",
      "q len = 1\n",
      "result = 1\n",
      "found result = 1\n",
      "1/1 [==============================] - 0s 19ms/step\n",
      "q len = 1\n",
      "result = 2\n",
      "found result = 2\n",
      "1/1 [==============================] - 0s 18ms/step\n",
      "q len = 1\n",
      "result = 4\n",
      "found result = 4\n",
      "1/1 [==============================] - 0s 17ms/step\n",
      "q len = 1\n",
      "result = 4\n",
      "found result = 4\n",
      "1/1 [==============================] - 0s 19ms/step\n",
      "q len = 1\n",
      "result = 6\n",
      "found result = 6\n",
      "1/1 [==============================] - 0s 20ms/step\n",
      "q len = 1\n",
      "result = 3\n",
      "found result = 3\n",
      "1/1 [==============================] - 0s 17ms/step\n",
      "q len = 1\n",
      "result = 5\n",
      "found result = 5\n",
      "1/1 [==============================] - 0s 17ms/step\n",
      "q len = 1\n",
      "result = 5\n",
      "found result = 5\n",
      "1/1 [==============================] - 0s 17ms/step\n",
      "q len = 1\n",
      "result = 6\n",
      "found result = 6\n",
      "1/1 [==============================] - 0s 17ms/step\n",
      "q len = 1\n",
      "result = 0\n",
      "found result = 0\n",
      "1/1 [==============================] - 0s 18ms/step\n",
      "q len = 1\n",
      "result = 4\n",
      "found result = 4\n",
      "1/1 [==============================] - 0s 20ms/step\n",
      "q len = 1\n",
      "result = 1\n",
      "found result = 1\n",
      "1/1 [==============================] - 0s 19ms/step\n",
      "q len = 1\n",
      "result = 9\n",
      "found result = 9\n",
      "1/1 [==============================] - 0s 20ms/step\n",
      "q len = 1\n",
      "result = 5\n",
      "found result = 5\n",
      "1/1 [==============================] - 0s 18ms/step\n",
      "q len = 1\n",
      "result = 7\n",
      "found result = 7\n",
      "1/1 [==============================] - 0s 18ms/step\n",
      "q len = 1\n",
      "result = 8\n",
      "found result = 8\n",
      "1/1 [==============================] - 0s 18ms/step\n",
      "q len = 1\n",
      "result = 9\n",
      "found result = 9\n",
      "1/1 [==============================] - 0s 23ms/step\n",
      "q len = 1\n",
      "result = 3\n",
      "found result = 3\n",
      "1/1 [==============================] - 0s 18ms/step\n",
      "q len = 1\n",
      "result = 7\n",
      "found result = 7\n",
      "1/1 [==============================] - 0s 20ms/step\n",
      "q len = 1\n",
      "result = 4\n",
      "found result = 4\n",
      "1/1 [==============================] - 0s 19ms/step\n",
      "q len = 1\n",
      "result = 6\n",
      "found result = 6\n",
      "1/1 [==============================] - 0s 18ms/step\n",
      "q len = 1\n",
      "result = 4\n",
      "found result = 4\n",
      "1/1 [==============================] - 0s 19ms/step\n",
      "q len = 1\n",
      "result = 3\n",
      "found result = 3\n",
      "1/1 [==============================] - 0s 20ms/step\n",
      "q len = 1\n",
      "result = 0\n",
      "found result = 0\n",
      "1/1 [==============================] - 0s 19ms/step\n",
      "q len = 1\n",
      "result = 7\n",
      "found result = 7\n",
      "1/1 [==============================] - 0s 18ms/step\n",
      "q len = 1\n",
      "result = 0\n",
      "found result = 0\n",
      "1/1 [==============================] - 0s 18ms/step\n",
      "q len = 1\n",
      "result = 2\n",
      "found result = 2\n",
      "1/1 [==============================] - 0s 18ms/step\n",
      "q len = 1\n",
      "result = 9\n",
      "found result = 9\n",
      "1/1 [==============================] - 0s 19ms/step\n",
      "q len = 1\n",
      "result = 1\n",
      "found result = 1\n",
      "1/1 [==============================] - 0s 18ms/step\n",
      "q len = 1\n",
      "result = 7\n",
      "found result = 7\n",
      "1/1 [==============================] - 0s 18ms/step\n",
      "q len = 1\n",
      "result = 3\n",
      "found result = 3\n",
      "1/1 [==============================] - 0s 18ms/step\n",
      "q len = 1\n",
      "result = 2\n",
      "found result = 2\n",
      "1/1 [==============================] - 0s 18ms/step\n",
      "q len = 1\n",
      "result = 9\n",
      "found result = 9\n",
      "1/1 [==============================] - 0s 18ms/step\n",
      "q len = 1\n",
      "result = 7\n",
      "found result = 7\n",
      "1/1 [==============================] - 0s 18ms/step\n",
      "q len = 1\n",
      "result = 7\n",
      "found result = 7\n",
      "1/1 [==============================] - 0s 18ms/step\n",
      "q len = 1\n",
      "result = 6\n",
      "found result = 6\n",
      "1/1 [==============================] - 0s 18ms/step\n",
      "q len = 1\n",
      "result = 2\n",
      "found result = 2\n",
      "1/1 [==============================] - 0s 18ms/step\n",
      "q len = 1\n",
      "result = 7\n",
      "found result = 7\n",
      "1/1 [==============================] - 0s 18ms/step\n",
      "q len = 1\n",
      "result = 8\n",
      "found result = 8\n",
      "1/1 [==============================] - 0s 18ms/step\n",
      "q len = 1\n",
      "result = 4\n",
      "found result = 4\n",
      "1/1 [==============================] - 0s 26ms/step\n",
      "q len = 1\n",
      "result = 7\n",
      "found result = 7\n",
      "1/1 [==============================] - 0s 21ms/step\n",
      "q len = 1\n",
      "result = 3\n",
      "found result = 3\n",
      "1/1 [==============================] - 0s 19ms/step\n",
      "q len = 1\n",
      "result = 6\n",
      "found result = 6\n",
      "1/1 [==============================] - 0s 21ms/step\n",
      "q len = 1\n",
      "result = 1\n",
      "found result = 1\n",
      "1/1 [==============================] - 0s 19ms/step\n",
      "q len = 1\n",
      "result = 3\n",
      "found result = 3\n",
      "1/1 [==============================] - 0s 19ms/step\n",
      "q len = 1\n",
      "result = 6\n",
      "found result = 6\n",
      "1/1 [==============================] - 0s 18ms/step\n",
      "q len = 1\n",
      "result = 9\n",
      "found result = 9\n",
      "1/1 [==============================] - 0s 18ms/step\n",
      "q len = 1\n",
      "result = 3\n",
      "found result = 3\n",
      "1/1 [==============================] - 0s 17ms/step\n",
      "q len = 1\n",
      "result = 1\n",
      "found result = 1\n",
      "1/1 [==============================] - 0s 19ms/step\n",
      "q len = 1\n",
      "result = 4\n",
      "found result = 4\n",
      "1/1 [==============================] - 0s 20ms/step\n",
      "q len = 1\n",
      "result = 1\n",
      "found result = 1\n",
      "1/1 [==============================] - 0s 25ms/step\n",
      "q len = 1\n",
      "result = 7\n",
      "found result = 7\n",
      "1/1 [==============================] - 0s 19ms/step\n",
      "q len = 1\n",
      "result = 6\n",
      "found result = 6\n",
      "1/1 [==============================] - 0s 19ms/step\n",
      "q len = 1\n",
      "result = 9\n",
      "found result = 9\n"
     ]
    }
   ],
   "source": [
    "for i in range(100):\n",
    "    q = model.predict( np.array([x_test[i]]) )\n",
    "\n",
    "    print(f\"q len = {len(q)}\")\n",
    "    print(f\"result = {y_test[i]}\" )\n",
    "    print(f\"found result = {np.where(q[0] == numpy.amax(q[0]))[0][0] }\")\n",
    "    ####\n",
    "    ####\n",
    "    ####\n",
    "    ####\n",
    "    ####\n",
    "    ####\n",
    "    ####\n",
    "    ####\n",
    "    ####\n",
    "    ####\n",
    "    ####\n",
    "    ####\n",
    "    ####\n",
    "    ####\n",
    "    ####\n",
    "    ####§§§TODO REVOIR TUTO FLEUR, QUELLE EST LA VALEURE D'UN NEURONE ? puis faire autre tuto nmis tensorflow pour mieux comprendre\n",
    "    ####"
   ]
  },
  {
   "attachments": {},
   "cell_type": "markdown",
   "metadata": {},
   "source": [
    "### Save the model\n",
    "Using ```the model.save(filepath)``` method"
   ]
  },
  {
   "cell_type": "code",
   "execution_count": 15,
   "metadata": {},
   "outputs": [
    {
     "name": "stdout",
     "output_type": "stream",
     "text": [
      "INFO:tensorflow:Assets written to: ./basic-ocr-model/assets\n"
     ]
    }
   ],
   "source": [
    "model.save('./basic-ocr-model')"
   ]
  },
  {
   "attachments": {},
   "cell_type": "markdown",
   "metadata": {},
   "source": [
    "### Load the model\n"
   ]
  },
  {
   "cell_type": "code",
   "execution_count": 16,
   "metadata": {},
   "outputs": [],
   "source": [
    "loaded_model = tf.keras.models.load_model('./basic-ocr-model/')\n"
   ]
  },
  {
   "cell_type": "code",
   "execution_count": null,
   "metadata": {},
   "outputs": [],
   "source": []
  }
 ],
 "metadata": {
  "kernelspec": {
   "display_name": "base",
   "language": "python",
   "name": "python3"
  },
  "language_info": {
   "codemirror_mode": {
    "name": "ipython",
    "version": 3
   },
   "file_extension": ".py",
   "mimetype": "text/x-python",
   "name": "python",
   "nbconvert_exporter": "python",
   "pygments_lexer": "ipython3",
   "version": "3.9.13"
  },
  "orig_nbformat": 4,
  "vscode": {
   "interpreter": {
    "hash": "f6a5e76a99c0511a31decff2f843de6b15227c9a58b9fb2d2d9b4eba74a67e12"
   }
  }
 },
 "nbformat": 4,
 "nbformat_minor": 2
}
